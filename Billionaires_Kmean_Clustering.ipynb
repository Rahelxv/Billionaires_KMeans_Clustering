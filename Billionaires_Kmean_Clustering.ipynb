{
 "cells": [
  {
   "cell_type": "markdown",
   "id": "ce622e23-6bec-4494-bf7c-35ae913eb2c2",
   "metadata": {},
   "source": [
    "<b>Data Source:</b><br>\n",
    "<b>Forbes World's Billionaires List 2024, Vincent Campanaro.</b><br>\n",
    "<b>Retrieved from</b> https://www.kaggle.com/datasets/vincentcampanaro/forbes-worlds-billionaires-list-2024"
   ]
  },
  {
   "cell_type": "markdown",
   "id": "4c2fa16d-ecd6-401e-a708-e4e73e8f1342",
   "metadata": {},
   "source": [
    "# Importing Library"
   ]
  },
  {
   "cell_type": "code",
   "execution_count": 3,
   "id": "4e13ea34-adae-4c2a-abf7-ba8a16f1af14",
   "metadata": {},
   "outputs": [],
   "source": [
    "import numpy as np\n",
    "import pandas as pd\n",
    "import matplotlib.pyplot as plt\n",
    "import seaborn as sns\n",
    "sns.set()\n",
    "from sklearn.cluster import KMeans\n",
    "import warnings\n",
    "warnings.filterwarnings(\"ignore\")\n",
    "import os\n",
    "os.environ[\"LOKY_MAX_CPU_COUNT\"] = \"4\" "
   ]
  },
  {
   "cell_type": "markdown",
   "id": "ef35d266-ee47-4996-9b94-0fef6850aa1c",
   "metadata": {},
   "source": [
    "## Load the data"
   ]
  },
  {
   "cell_type": "code",
   "execution_count": 5,
   "id": "5ce1becf-1e8c-41bf-a09c-1db49e0f8529",
   "metadata": {},
   "outputs": [
    {
     "data": {
      "text/html": [
       "<div>\n",
       "<style scoped>\n",
       "    .dataframe tbody tr th:only-of-type {\n",
       "        vertical-align: middle;\n",
       "    }\n",
       "\n",
       "    .dataframe tbody tr th {\n",
       "        vertical-align: top;\n",
       "    }\n",
       "\n",
       "    .dataframe thead th {\n",
       "        text-align: right;\n",
       "    }\n",
       "</style>\n",
       "<table border=\"1\" class=\"dataframe\">\n",
       "  <thead>\n",
       "    <tr style=\"text-align: right;\">\n",
       "      <th></th>\n",
       "      <th>Name</th>\n",
       "      <th>Age</th>\n",
       "      <th>2024 Net Worth</th>\n",
       "      <th>Industry</th>\n",
       "      <th>Source of Wealth</th>\n",
       "      <th>Title</th>\n",
       "      <th>Organization</th>\n",
       "      <th>Self-Made</th>\n",
       "      <th>Self-Made Score</th>\n",
       "      <th>Philanthropy Score</th>\n",
       "      <th>Residence</th>\n",
       "      <th>Citizenship</th>\n",
       "      <th>Gender</th>\n",
       "      <th>Marital Status</th>\n",
       "      <th>Children</th>\n",
       "      <th>Education</th>\n",
       "    </tr>\n",
       "  </thead>\n",
       "  <tbody>\n",
       "    <tr>\n",
       "      <th>0</th>\n",
       "      <td>Bernard Arnault &amp; family</td>\n",
       "      <td>75.0</td>\n",
       "      <td>$233B</td>\n",
       "      <td>Fashion &amp; Retail</td>\n",
       "      <td>LVMH</td>\n",
       "      <td>Chairman and CEO</td>\n",
       "      <td>LVMH Moët Hennessy Louis Vuitton</td>\n",
       "      <td>False</td>\n",
       "      <td>NaN</td>\n",
       "      <td>NaN</td>\n",
       "      <td>Paris, France</td>\n",
       "      <td>France</td>\n",
       "      <td>M</td>\n",
       "      <td>Married</td>\n",
       "      <td>5.0</td>\n",
       "      <td>Bachelor of Arts/Science, Ecole Polytechnique ...</td>\n",
       "    </tr>\n",
       "    <tr>\n",
       "      <th>1</th>\n",
       "      <td>Elon Musk</td>\n",
       "      <td>52.0</td>\n",
       "      <td>$195B</td>\n",
       "      <td>Automotive</td>\n",
       "      <td>Tesla, SpaceX</td>\n",
       "      <td>CEO</td>\n",
       "      <td>Tesla</td>\n",
       "      <td>True</td>\n",
       "      <td>8.0</td>\n",
       "      <td>1.0</td>\n",
       "      <td>Austin, Texas</td>\n",
       "      <td>United States</td>\n",
       "      <td>M</td>\n",
       "      <td>Single</td>\n",
       "      <td>11.0</td>\n",
       "      <td>Bachelor of Arts/Science, University of Pennsy...</td>\n",
       "    </tr>\n",
       "    <tr>\n",
       "      <th>2</th>\n",
       "      <td>Jeff Bezos</td>\n",
       "      <td>60.0</td>\n",
       "      <td>$194B</td>\n",
       "      <td>Technology</td>\n",
       "      <td>Amazon</td>\n",
       "      <td>Chairman and Founder</td>\n",
       "      <td>Amazon</td>\n",
       "      <td>True</td>\n",
       "      <td>8.0</td>\n",
       "      <td>2.0</td>\n",
       "      <td>Miami, Florida</td>\n",
       "      <td>United States</td>\n",
       "      <td>M</td>\n",
       "      <td>Engaged</td>\n",
       "      <td>4.0</td>\n",
       "      <td>Bachelor of Arts/Science, Princeton University</td>\n",
       "    </tr>\n",
       "    <tr>\n",
       "      <th>3</th>\n",
       "      <td>Mark Zuckerberg</td>\n",
       "      <td>39.0</td>\n",
       "      <td>$177B</td>\n",
       "      <td>Technology</td>\n",
       "      <td>Facebook</td>\n",
       "      <td>Co-founder</td>\n",
       "      <td>Meta Platforms</td>\n",
       "      <td>True</td>\n",
       "      <td>8.0</td>\n",
       "      <td>2.0</td>\n",
       "      <td>Palo Alto, California</td>\n",
       "      <td>United States</td>\n",
       "      <td>M</td>\n",
       "      <td>Married</td>\n",
       "      <td>3.0</td>\n",
       "      <td>Drop Out, Harvard University</td>\n",
       "    </tr>\n",
       "    <tr>\n",
       "      <th>4</th>\n",
       "      <td>Larry Ellison</td>\n",
       "      <td>79.0</td>\n",
       "      <td>$141B</td>\n",
       "      <td>Technology</td>\n",
       "      <td>Oracle</td>\n",
       "      <td>CTO and Founder</td>\n",
       "      <td>Oracle</td>\n",
       "      <td>True</td>\n",
       "      <td>9.0</td>\n",
       "      <td>1.0</td>\n",
       "      <td>Woodside, California</td>\n",
       "      <td>United States</td>\n",
       "      <td>M</td>\n",
       "      <td>In Relationship</td>\n",
       "      <td>4.0</td>\n",
       "      <td>Drop Out, University of Chicago; Drop Out, Uni...</td>\n",
       "    </tr>\n",
       "    <tr>\n",
       "      <th>...</th>\n",
       "      <td>...</td>\n",
       "      <td>...</td>\n",
       "      <td>...</td>\n",
       "      <td>...</td>\n",
       "      <td>...</td>\n",
       "      <td>...</td>\n",
       "      <td>...</td>\n",
       "      <td>...</td>\n",
       "      <td>...</td>\n",
       "      <td>...</td>\n",
       "      <td>...</td>\n",
       "      <td>...</td>\n",
       "      <td>...</td>\n",
       "      <td>...</td>\n",
       "      <td>...</td>\n",
       "      <td>...</td>\n",
       "    </tr>\n",
       "    <tr>\n",
       "      <th>2776</th>\n",
       "      <td>Zhang Hong</td>\n",
       "      <td>NaN</td>\n",
       "      <td>$1B</td>\n",
       "      <td>Energy</td>\n",
       "      <td>Solar</td>\n",
       "      <td>NaN</td>\n",
       "      <td>NaN</td>\n",
       "      <td>True</td>\n",
       "      <td>NaN</td>\n",
       "      <td>NaN</td>\n",
       "      <td>Hangzhou, China</td>\n",
       "      <td>China</td>\n",
       "      <td>F</td>\n",
       "      <td>Married</td>\n",
       "      <td>NaN</td>\n",
       "      <td>NaN</td>\n",
       "    </tr>\n",
       "    <tr>\n",
       "      <th>2777</th>\n",
       "      <td>Zheng Xiaodong</td>\n",
       "      <td>60.0</td>\n",
       "      <td>$1B</td>\n",
       "      <td>Manufacturing</td>\n",
       "      <td>Manufacturing</td>\n",
       "      <td>NaN</td>\n",
       "      <td>NaN</td>\n",
       "      <td>True</td>\n",
       "      <td>NaN</td>\n",
       "      <td>NaN</td>\n",
       "      <td>Shanghai, China</td>\n",
       "      <td>China</td>\n",
       "      <td>M</td>\n",
       "      <td>NaN</td>\n",
       "      <td>NaN</td>\n",
       "      <td>NaN</td>\n",
       "    </tr>\n",
       "    <tr>\n",
       "      <th>2778</th>\n",
       "      <td>Zhong Sheng Jian</td>\n",
       "      <td>66.0</td>\n",
       "      <td>$1B</td>\n",
       "      <td>Real Estate</td>\n",
       "      <td>Real estate</td>\n",
       "      <td>founder</td>\n",
       "      <td>Yanlord Land Group Limited</td>\n",
       "      <td>True</td>\n",
       "      <td>NaN</td>\n",
       "      <td>NaN</td>\n",
       "      <td>Singapore, Singapore</td>\n",
       "      <td>Singapore</td>\n",
       "      <td>M</td>\n",
       "      <td>Married</td>\n",
       "      <td>5.0</td>\n",
       "      <td>NaN</td>\n",
       "    </tr>\n",
       "    <tr>\n",
       "      <th>2779</th>\n",
       "      <td>Zhou Junjie</td>\n",
       "      <td>55.0</td>\n",
       "      <td>$1B</td>\n",
       "      <td>Manufacturing</td>\n",
       "      <td>equipment</td>\n",
       "      <td>Chairperson</td>\n",
       "      <td>Yindu Kitchen Equipment</td>\n",
       "      <td>True</td>\n",
       "      <td>NaN</td>\n",
       "      <td>NaN</td>\n",
       "      <td>Hangzhou, China</td>\n",
       "      <td>China</td>\n",
       "      <td>M</td>\n",
       "      <td>Married</td>\n",
       "      <td>NaN</td>\n",
       "      <td>NaN</td>\n",
       "    </tr>\n",
       "    <tr>\n",
       "      <th>2780</th>\n",
       "      <td>Zhu Yiwen &amp; family</td>\n",
       "      <td>60.0</td>\n",
       "      <td>$1B</td>\n",
       "      <td>Healthcare</td>\n",
       "      <td>Healthcare</td>\n",
       "      <td>founder</td>\n",
       "      <td>Hygeia Healthcare</td>\n",
       "      <td>True</td>\n",
       "      <td>NaN</td>\n",
       "      <td>NaN</td>\n",
       "      <td>Shanghai, China</td>\n",
       "      <td>China</td>\n",
       "      <td>M</td>\n",
       "      <td>Married</td>\n",
       "      <td>NaN</td>\n",
       "      <td>Medical Doctor, Nanjing University of Chinese ...</td>\n",
       "    </tr>\n",
       "  </tbody>\n",
       "</table>\n",
       "<p>2781 rows × 16 columns</p>\n",
       "</div>"
      ],
      "text/plain": [
       "                          Name   Age 2024 Net Worth          Industry  \\\n",
       "0     Bernard Arnault & family  75.0          $233B  Fashion & Retail   \n",
       "1                    Elon Musk  52.0          $195B        Automotive   \n",
       "2                   Jeff Bezos  60.0          $194B        Technology   \n",
       "3              Mark Zuckerberg  39.0          $177B        Technology   \n",
       "4                Larry Ellison  79.0          $141B        Technology   \n",
       "...                        ...   ...            ...               ...   \n",
       "2776                Zhang Hong   NaN            $1B            Energy   \n",
       "2777            Zheng Xiaodong  60.0            $1B     Manufacturing   \n",
       "2778          Zhong Sheng Jian  66.0            $1B       Real Estate   \n",
       "2779               Zhou Junjie  55.0            $1B     Manufacturing   \n",
       "2780        Zhu Yiwen & family  60.0            $1B        Healthcare   \n",
       "\n",
       "     Source of Wealth                 Title                      Organization  \\\n",
       "0                LVMH      Chairman and CEO  LVMH Moët Hennessy Louis Vuitton   \n",
       "1       Tesla, SpaceX                   CEO                             Tesla   \n",
       "2              Amazon  Chairman and Founder                            Amazon   \n",
       "3            Facebook            Co-founder                    Meta Platforms   \n",
       "4              Oracle       CTO and Founder                            Oracle   \n",
       "...               ...                   ...                               ...   \n",
       "2776            Solar                   NaN                               NaN   \n",
       "2777    Manufacturing                   NaN                               NaN   \n",
       "2778      Real estate               founder        Yanlord Land Group Limited   \n",
       "2779        equipment           Chairperson           Yindu Kitchen Equipment   \n",
       "2780       Healthcare               founder                 Hygeia Healthcare   \n",
       "\n",
       "      Self-Made  Self-Made Score  Philanthropy Score              Residence  \\\n",
       "0         False              NaN                 NaN          Paris, France   \n",
       "1          True              8.0                 1.0          Austin, Texas   \n",
       "2          True              8.0                 2.0         Miami, Florida   \n",
       "3          True              8.0                 2.0  Palo Alto, California   \n",
       "4          True              9.0                 1.0   Woodside, California   \n",
       "...         ...              ...                 ...                    ...   \n",
       "2776       True              NaN                 NaN        Hangzhou, China   \n",
       "2777       True              NaN                 NaN        Shanghai, China   \n",
       "2778       True              NaN                 NaN   Singapore, Singapore   \n",
       "2779       True              NaN                 NaN        Hangzhou, China   \n",
       "2780       True              NaN                 NaN        Shanghai, China   \n",
       "\n",
       "        Citizenship Gender   Marital Status  Children  \\\n",
       "0            France      M          Married       5.0   \n",
       "1     United States      M           Single      11.0   \n",
       "2     United States      M          Engaged       4.0   \n",
       "3     United States      M          Married       3.0   \n",
       "4     United States      M  In Relationship       4.0   \n",
       "...             ...    ...              ...       ...   \n",
       "2776          China      F          Married       NaN   \n",
       "2777          China      M              NaN       NaN   \n",
       "2778      Singapore      M          Married       5.0   \n",
       "2779          China      M          Married       NaN   \n",
       "2780          China      M          Married       NaN   \n",
       "\n",
       "                                              Education  \n",
       "0     Bachelor of Arts/Science, Ecole Polytechnique ...  \n",
       "1     Bachelor of Arts/Science, University of Pennsy...  \n",
       "2        Bachelor of Arts/Science, Princeton University  \n",
       "3                          Drop Out, Harvard University  \n",
       "4     Drop Out, University of Chicago; Drop Out, Uni...  \n",
       "...                                                 ...  \n",
       "2776                                                NaN  \n",
       "2777                                                NaN  \n",
       "2778                                                NaN  \n",
       "2779                                                NaN  \n",
       "2780  Medical Doctor, Nanjing University of Chinese ...  \n",
       "\n",
       "[2781 rows x 16 columns]"
      ]
     },
     "execution_count": 5,
     "metadata": {},
     "output_type": "execute_result"
    }
   ],
   "source": [
    "data = pd.read_csv('2024-Billionaire.csv')\n",
    "data"
   ]
  },
  {
   "cell_type": "markdown",
   "id": "ffaaeff0-57c4-427e-a4b0-85c20d9a6ce6",
   "metadata": {},
   "source": [
    "## Data selection"
   ]
  },
  {
   "cell_type": "code",
   "execution_count": 7,
   "id": "8ecc4a02-7777-4dce-acdd-438a3fd48e18",
   "metadata": {},
   "outputs": [
    {
     "data": {
      "text/html": [
       "<div>\n",
       "<style scoped>\n",
       "    .dataframe tbody tr th:only-of-type {\n",
       "        vertical-align: middle;\n",
       "    }\n",
       "\n",
       "    .dataframe tbody tr th {\n",
       "        vertical-align: top;\n",
       "    }\n",
       "\n",
       "    .dataframe thead th {\n",
       "        text-align: right;\n",
       "    }\n",
       "</style>\n",
       "<table border=\"1\" class=\"dataframe\">\n",
       "  <thead>\n",
       "    <tr style=\"text-align: right;\">\n",
       "      <th></th>\n",
       "      <th>Age</th>\n",
       "      <th>2024 Net Worth</th>\n",
       "    </tr>\n",
       "  </thead>\n",
       "  <tbody>\n",
       "    <tr>\n",
       "      <th>0</th>\n",
       "      <td>75.0</td>\n",
       "      <td>$233B</td>\n",
       "    </tr>\n",
       "    <tr>\n",
       "      <th>1</th>\n",
       "      <td>52.0</td>\n",
       "      <td>$195B</td>\n",
       "    </tr>\n",
       "    <tr>\n",
       "      <th>2</th>\n",
       "      <td>60.0</td>\n",
       "      <td>$194B</td>\n",
       "    </tr>\n",
       "    <tr>\n",
       "      <th>3</th>\n",
       "      <td>39.0</td>\n",
       "      <td>$177B</td>\n",
       "    </tr>\n",
       "    <tr>\n",
       "      <th>4</th>\n",
       "      <td>79.0</td>\n",
       "      <td>$141B</td>\n",
       "    </tr>\n",
       "    <tr>\n",
       "      <th>...</th>\n",
       "      <td>...</td>\n",
       "      <td>...</td>\n",
       "    </tr>\n",
       "    <tr>\n",
       "      <th>2776</th>\n",
       "      <td>NaN</td>\n",
       "      <td>$1B</td>\n",
       "    </tr>\n",
       "    <tr>\n",
       "      <th>2777</th>\n",
       "      <td>60.0</td>\n",
       "      <td>$1B</td>\n",
       "    </tr>\n",
       "    <tr>\n",
       "      <th>2778</th>\n",
       "      <td>66.0</td>\n",
       "      <td>$1B</td>\n",
       "    </tr>\n",
       "    <tr>\n",
       "      <th>2779</th>\n",
       "      <td>55.0</td>\n",
       "      <td>$1B</td>\n",
       "    </tr>\n",
       "    <tr>\n",
       "      <th>2780</th>\n",
       "      <td>60.0</td>\n",
       "      <td>$1B</td>\n",
       "    </tr>\n",
       "  </tbody>\n",
       "</table>\n",
       "<p>2781 rows × 2 columns</p>\n",
       "</div>"
      ],
      "text/plain": [
       "       Age 2024 Net Worth\n",
       "0     75.0          $233B\n",
       "1     52.0          $195B\n",
       "2     60.0          $194B\n",
       "3     39.0          $177B\n",
       "4     79.0          $141B\n",
       "...    ...            ...\n",
       "2776   NaN            $1B\n",
       "2777  60.0            $1B\n",
       "2778  66.0            $1B\n",
       "2779  55.0            $1B\n",
       "2780  60.0            $1B\n",
       "\n",
       "[2781 rows x 2 columns]"
      ]
     },
     "execution_count": 7,
     "metadata": {},
     "output_type": "execute_result"
    }
   ],
   "source": [
    "data_cleaned = data[['Age','2024 Net Worth']]\n",
    "data_cleaned"
   ]
  },
  {
   "cell_type": "code",
   "execution_count": 8,
   "id": "7dca54ab-3187-4641-8af0-0ea00c572291",
   "metadata": {},
   "outputs": [
    {
     "data": {
      "text/plain": [
       "Age               float64\n",
       "2024 Net Worth     object\n",
       "dtype: object"
      ]
     },
     "execution_count": 8,
     "metadata": {},
     "output_type": "execute_result"
    }
   ],
   "source": [
    "data_cleaned.dtypes"
   ]
  },
  {
   "cell_type": "code",
   "execution_count": 9,
   "id": "3e397d14-502e-4540-b2e5-1da19a9f12fa",
   "metadata": {},
   "outputs": [
    {
     "data": {
      "text/html": [
       "<div>\n",
       "<style scoped>\n",
       "    .dataframe tbody tr th:only-of-type {\n",
       "        vertical-align: middle;\n",
       "    }\n",
       "\n",
       "    .dataframe tbody tr th {\n",
       "        vertical-align: top;\n",
       "    }\n",
       "\n",
       "    .dataframe thead th {\n",
       "        text-align: right;\n",
       "    }\n",
       "</style>\n",
       "<table border=\"1\" class=\"dataframe\">\n",
       "  <thead>\n",
       "    <tr style=\"text-align: right;\">\n",
       "      <th></th>\n",
       "      <th>Age</th>\n",
       "      <th>2024 Net Worth</th>\n",
       "    </tr>\n",
       "  </thead>\n",
       "  <tbody>\n",
       "    <tr>\n",
       "      <th>0</th>\n",
       "      <td>75.0</td>\n",
       "      <td>233.0</td>\n",
       "    </tr>\n",
       "    <tr>\n",
       "      <th>1</th>\n",
       "      <td>52.0</td>\n",
       "      <td>195.0</td>\n",
       "    </tr>\n",
       "    <tr>\n",
       "      <th>2</th>\n",
       "      <td>60.0</td>\n",
       "      <td>194.0</td>\n",
       "    </tr>\n",
       "    <tr>\n",
       "      <th>3</th>\n",
       "      <td>39.0</td>\n",
       "      <td>177.0</td>\n",
       "    </tr>\n",
       "    <tr>\n",
       "      <th>4</th>\n",
       "      <td>79.0</td>\n",
       "      <td>141.0</td>\n",
       "    </tr>\n",
       "    <tr>\n",
       "      <th>...</th>\n",
       "      <td>...</td>\n",
       "      <td>...</td>\n",
       "    </tr>\n",
       "    <tr>\n",
       "      <th>2776</th>\n",
       "      <td>NaN</td>\n",
       "      <td>1.0</td>\n",
       "    </tr>\n",
       "    <tr>\n",
       "      <th>2777</th>\n",
       "      <td>60.0</td>\n",
       "      <td>1.0</td>\n",
       "    </tr>\n",
       "    <tr>\n",
       "      <th>2778</th>\n",
       "      <td>66.0</td>\n",
       "      <td>1.0</td>\n",
       "    </tr>\n",
       "    <tr>\n",
       "      <th>2779</th>\n",
       "      <td>55.0</td>\n",
       "      <td>1.0</td>\n",
       "    </tr>\n",
       "    <tr>\n",
       "      <th>2780</th>\n",
       "      <td>60.0</td>\n",
       "      <td>1.0</td>\n",
       "    </tr>\n",
       "  </tbody>\n",
       "</table>\n",
       "<p>2781 rows × 2 columns</p>\n",
       "</div>"
      ],
      "text/plain": [
       "       Age 2024 Net Worth\n",
       "0     75.0          233.0\n",
       "1     52.0          195.0\n",
       "2     60.0          194.0\n",
       "3     39.0          177.0\n",
       "4     79.0          141.0\n",
       "...    ...            ...\n",
       "2776   NaN            1.0\n",
       "2777  60.0            1.0\n",
       "2778  66.0            1.0\n",
       "2779  55.0            1.0\n",
       "2780  60.0            1.0\n",
       "\n",
       "[2781 rows x 2 columns]"
      ]
     },
     "execution_count": 9,
     "metadata": {},
     "output_type": "execute_result"
    }
   ],
   "source": [
    "data_cleaned.loc[:, '2024 Net Worth'] = data_cleaned['2024 Net Worth'].replace(r'[\\$,B]', '', regex=True).astype(float)\n",
    "data_cleaned"
   ]
  },
  {
   "cell_type": "markdown",
   "id": "a5178e8f-768e-4867-9c10-a278b80e1e40",
   "metadata": {},
   "source": [
    "The '2024 Net Worth' values are originally strings containing non-numeric characters like the dollar sign ($) and the letter B (which stands for \"billion\"). These characters prevent numerical operations, such as plotting, mathematical calculations, and clustering. Therefore we change it into float."
   ]
  },
  {
   "cell_type": "markdown",
   "id": "f37f310c-21c3-461b-82ac-b11dd2fca4be",
   "metadata": {},
   "source": [
    "### Check for null value and drop the null value."
   ]
  },
  {
   "cell_type": "code",
   "execution_count": 12,
   "id": "0dc7b51a-b4fa-4db2-9812-5b1b7f4fad28",
   "metadata": {},
   "outputs": [
    {
     "data": {
      "text/plain": [
       "Age               81\n",
       "2024 Net Worth     0\n",
       "dtype: int64"
      ]
     },
     "execution_count": 12,
     "metadata": {},
     "output_type": "execute_result"
    }
   ],
   "source": [
    "data_cleaned.isnull().sum()"
   ]
  },
  {
   "cell_type": "code",
   "execution_count": null,
   "id": "f488065c-9ab6-4627-9ba3-5441384a7133",
   "metadata": {},
   "outputs": [],
   "source": []
  },
  {
   "cell_type": "code",
   "execution_count": 13,
   "id": "b5be1d92-15f7-420f-82fc-089b4422b401",
   "metadata": {},
   "outputs": [
    {
     "data": {
      "text/plain": [
       "Age               0\n",
       "2024 Net Worth    0\n",
       "dtype: int64"
      ]
     },
     "execution_count": 13,
     "metadata": {},
     "output_type": "execute_result"
    }
   ],
   "source": [
    "data_cleaned = data_cleaned.dropna(subset=['Age'])\n",
    "data_cleaned.isnull().sum()"
   ]
  },
  {
   "cell_type": "markdown",
   "id": "441c94e0-ba9f-4789-b3a0-468edfebb2e0",
   "metadata": {},
   "source": [
    "## Plot the data"
   ]
  },
  {
   "cell_type": "code",
   "execution_count": 15,
   "id": "7d8eb09f-ef1f-4ce0-82f9-abb8eeded1d6",
   "metadata": {},
   "outputs": [
    {
     "data": {
      "image/png": "[encoded data removed]",
      "text/plain": [
       "<Figure size 640x480 with 1 Axes>"
      ]
     },
     "metadata": {},
     "output_type": "display_data"
    }
   ],
   "source": [
    "plt.scatter(data_cleaned['Age'],data_cleaned['2024 Net Worth'])\n",
    "plt.xlabel('Age')\n",
    "plt.ylabel('2024 Net Worth')\n",
    "plt.show()"
   ]
  },
  {
   "cell_type": "markdown",
   "id": "95ab2768-b3a2-4035-a2bc-5db3dca44aa0",
   "metadata": {},
   "source": [
    "There is no strong linear correlation between age and net worth. High net worth individuals appear across various age groups, including those in their 40s to 80s.\n",
    "\n",
    "The plot suggests that net worth is not solely dependent on age, but likely influenced by other variables like industry, inheritance, or entrepreneurship success."
   ]
  },
  {
   "cell_type": "markdown",
   "id": "9b62d0e1-ccbf-4fa2-8625-b98d5a3dc4dd",
   "metadata": {},
   "source": [
    "## Standardize the variables"
   ]
  },
  {
   "cell_type": "code",
   "execution_count": 18,
   "id": "58cca128-bb92-425f-950a-ae14b6dc1a06",
   "metadata": {},
   "outputs": [
    {
     "data": {
      "text/plain": [
       "array([[ 0.68829739, 18.37691302],\n",
       "       [-1.02027151, 15.31131243],\n",
       "       [-0.42598667, 15.23063874],\n",
       "       ...,\n",
       "       [ 0.01972695, -0.33938529],\n",
       "       [-0.79741469, -0.33938529],\n",
       "       [-0.42598667, -0.33938529]])"
      ]
     },
     "execution_count": 18,
     "metadata": {},
     "output_type": "execute_result"
    }
   ],
   "source": [
    "from sklearn import preprocessing\n",
    "x_scaled = preprocessing.scale(data_cleaned)\n",
    "x_scaled"
   ]
  },
  {
   "cell_type": "markdown",
   "id": "2a96fb33-2056-44c2-9611-e880aef8f3e8",
   "metadata": {},
   "source": [
    "## The Elbow Method\n",
    "We used the Elbow Method is in clustering to determine the optimal number of clusters by plotting the Within-Cluster Sum of Squares (WCSS) against various values of k. As the number of clusters increases, WCSS decreases, but at a certain point, the rate of improvement drops significantly—forming an \"elbow\" in the plot. This elbow point represents the best balance between cluster compactness and simplicity, helping to avoid both underfitting and overfitting in KMeans clustering. For short, this is used to determined the right amount of clusters we should use."
   ]
  },
  {
   "cell_type": "markdown",
   "id": "c947d604-e728-4f87-8498-f35092e0e467",
   "metadata": {},
   "source": [
    "### WCSS"
   ]
  },
  {
   "cell_type": "code",
   "execution_count": 21,
   "id": "ba04c423-d204-4e8b-81d3-e3eda7bce443",
   "metadata": {},
   "outputs": [
    {
     "data": {
      "text/plain": [
       "[5400.0,\n",
       " 3624.3838348574504,\n",
       " 1767.6211367374212,\n",
       " 1344.7307626006207,\n",
       " 1118.4519599835705,\n",
       " 835.8739780676002,\n",
       " 784.5510472082985,\n",
       " 543.3125506952724,\n",
       " 532.8239879797444]"
      ]
     },
     "execution_count": 21,
     "metadata": {},
     "output_type": "execute_result"
    }
   ],
   "source": [
    "wcss = []\n",
    "# 'cl_num' is a that keeps track the highest number of clusters we want to use the WCSS method for. We have it set at 10 right now, but it is completely arbitrary.\n",
    "cl_num = 10\n",
    "for i in range (1,cl_num):\n",
    "    kmeans= KMeans(i)\n",
    "    kmeans.fit(x_scaled)\n",
    "    wcss_iter = kmeans.inertia_\n",
    "    wcss.append(wcss_iter)\n",
    "wcss"
   ]
  },
  {
   "cell_type": "code",
   "execution_count": 22,
   "id": "b64a0715-86c4-44f7-bad1-4c898b69cf27",
   "metadata": {},
   "outputs": [
    {
     "data": {
      "text/plain": [
       "Text(0, 0.5, 'Within-cluster Sum of Squares')"
      ]
     },
     "execution_count": 22,
     "metadata": {},
     "output_type": "execute_result"
    },
    {
     "data": {
      "image/png": "[encoded data removed]",
      "text/plain": [
       "<Figure size 640x480 with 1 Axes>"
      ]
     },
     "metadata": {},
     "output_type": "display_data"
    }
   ],
   "source": [
    "number_clusters = range(1,cl_num)\n",
    "plt.plot(number_clusters, wcss)\n",
    "plt.title('The Elbow Method')\n",
    "plt.xlabel('Number of clusters')\n",
    "plt.ylabel('Within-cluster Sum of Squares')"
   ]
  },
  {
   "cell_type": "markdown",
   "id": "996839d9-923d-4eb9-9d04-bd5825d44e1e",
   "metadata": {},
   "source": [
    "## 3 Cluster \n",
    "Based on the Elbow Method plot, we choose 3 clusters because it represents the point where the Within-Cluster Sum of Squares (WCSS) begins to decrease at a slower rate—forming an \"elbow\" in the graph. This indicates that adding more clusters beyond this point results in only marginal improvements in compactness and model performance. Therefore, 3 clusters provide a good balance between simplification and capturing the underlying structure of the data without overfitting."
   ]
  },
  {
   "cell_type": "code",
   "execution_count": 24,
   "id": "6dd4a09a-05e6-448e-93b5-a9e4bfa5e57e",
   "metadata": {},
   "outputs": [],
   "source": [
    "kmeans_3 = KMeans(3)\n",
    "kmeans_3.fit(x_scaled)\n",
    "clusters_3 = data_cleaned.copy()\n",
    "clusters_3['cluster_pred']=kmeans_3.fit_predict(x_scaled)"
   ]
  },
  {
   "cell_type": "code",
   "execution_count": 25,
   "id": "0f642e25-3213-41d9-b942-0d36473228d4",
   "metadata": {},
   "outputs": [
    {
     "data": {
      "text/plain": [
       "Text(0, 0.5, '2024 Net Worth (Billion USD)')"
      ]
     },
     "execution_count": 25,
     "metadata": {},
     "output_type": "execute_result"
    },
    {
     "data": {
      "image/png": "[encoded data removed]",
      "text/plain": [
       "<Figure size 640x480 with 1 Axes>"
      ]
     },
     "metadata": {},
     "output_type": "display_data"
    }
   ],
   "source": [
    "plt.scatter(clusters_3['Age'], clusters_3['2024 Net Worth'], c= clusters_3 ['cluster_pred'], cmap = 'rainbow')\n",
    "plt.xlabel('Age')\n",
    "plt.ylabel('2024 Net Worth (Billion USD)')"
   ]
  },
  {
   "cell_type": "markdown",
   "id": "6d7f1033-c3d5-48d4-aa5f-c5af6caabaff",
   "metadata": {},
   "source": [
    "# Conclution\n",
    "\n",
    "<p>\n",
    "The clustering analysis of billionaires using <b>Age</b> and <b>2024 Net Worth</b> reveals distinct patterns in how wealth is distributed across generations. The youngest group, typically under 40, tends to cluster at the lower range of net worth. These individuals are often recent tech entrepreneurs or heirs to established fortunes who haven't had as much time to accumulate massive wealth. While they are billionaires by definition, their wealth typically falls below <b>$50 billion</b>, and their position in the scatter plot shows a more concentrated distribution toward the lower left.\n",
    "</p>\n",
    "\n",
    "<p>\n",
    "In contrast, the middle-aged segment (ages 40 to 60) shows a broader spread in net worth, indicating active wealth creation. This group includes many <b>self-made billionaires</b>, especially in sectors like technology, finance, and manufacturing. Their net worth varies greatly, and they tend to be more evenly distributed across the mid-section of the plot. These individuals are often in the midst of scaling their businesses or managing large investment portfolios, resulting in a dynamic growth trajectory.\n",
    "</p>\n",
    "\n",
    "<p>\n",
    "The <b>Top Net Worth Elite</b> cluster is particularly prominent — composed of individuals mostly aged 50 to 90, with net worths exceeding <b>$100 billion</b>. These billionaires represent the uppermost tier of global wealth. Many are either long-established legacy figures or high-impact founders of tech giants whose companies have grown exponentially. What sets this group apart is that their wealth does not follow a clear age-based trend; some reached extreme wealth at relatively younger ages, while others accumulated it steadily over time. This vertical distribution in the plot underscores that <b>age is not a limiting factor</b> at this level — wealth here is a reflection of <b>market dominance, global influence, and sustained economic success</b>.\n",
    "</p>"
   ]
  }
 ],
 "metadata": {
  "kernelspec": {
   "display_name": "Python [conda env:base] *",
   "language": "python",
   "name": "conda-base-py"
  },
  "language_info": {
   "codemirror_mode": {
    "name": "ipython",
    "version": 3
   },
   "file_extension": ".py",
   "mimetype": "text/x-python",
   "name": "python",
   "nbconvert_exporter": "python",
   "pygments_lexer": "ipython3",
   "version": "3.12.7"
  }
 },
 "nbformat": 4,
 "nbformat_minor": 5
}
